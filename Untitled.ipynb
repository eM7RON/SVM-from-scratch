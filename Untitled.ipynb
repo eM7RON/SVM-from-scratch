{
 "cells": [
  {
   "cell_type": "markdown",
   "metadata": {},
   "source": [
    "$$ d_m = \\sum\\limits_{n}\\alpha_n y_n k(\\mathbf{x}_n, \\mathbf{x}_m) + b $$"
   ]
  },
  {
   "cell_type": "markdown",
   "metadata": {},
   "source": [
    "$$ d_m =  $$"
   ]
  },
  {
   "cell_type": "markdown",
   "metadata": {},
   "source": [
    "$$ d_m = \\sum $$"
   ]
  },
  {
   "cell_type": "markdown",
   "metadata": {},
   "source": [
    "$$ d_m = \\sum\\limits_{n} $$"
   ]
  },
  {
   "cell_type": "markdown",
   "metadata": {},
   "source": [
    "$$ d_m = \\sum\\limits_{n}\\alpha_n  $$"
   ]
  },
  {
   "cell_type": "markdown",
   "metadata": {},
   "source": [
    "$$ d_m = \\sum\\limits_{n}\\alpha_n y_n  $$"
   ]
  },
  {
   "cell_type": "markdown",
   "metadata": {},
   "source": [
    "$$ d_m = \\sum\\limits_{n}\\alpha_n y_n k( $$"
   ]
  },
  {
   "cell_type": "markdown",
   "metadata": {},
   "source": [
    "$$ d_m = \\sum\\limits_{n}\\alpha_n y_n k(\\mathbf{x}_n $$"
   ]
  },
  {
   "cell_type": "markdown",
   "metadata": {},
   "source": [
    "$$ d_m = \\sum\\limits_{n}\\alpha_n y_n k(\\mathbf{x}_n, \\mathbf{x} $$"
   ]
  },
  {
   "cell_type": "markdown",
   "metadata": {},
   "source": [
    "$$ d_m = \\sum\\limits_{n}\\alpha_n y_n k(\\mathbf{x}_n, \\mathbf{x}_m $$"
   ]
  },
  {
   "cell_type": "markdown",
   "metadata": {},
   "source": [
    "$$ d_m = \\sum\\limits_{n}\\alpha_n y_n k(\\mathbf{x}_n, \\mathbf{x}_m) + b $$"
   ]
  }
 ],
 "metadata": {
  "kernelspec": {
   "display_name": "ML",
   "language": "python",
   "name": "ml"
  },
  "language_info": {
   "codemirror_mode": {
    "name": "ipython",
    "version": 3
   },
   "file_extension": ".py",
   "mimetype": "text/x-python",
   "name": "python",
   "nbconvert_exporter": "python",
   "pygments_lexer": "ipython3",
   "version": "3.6.7"
  }
 },
 "nbformat": 4,
 "nbformat_minor": 2
}
